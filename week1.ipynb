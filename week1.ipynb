{
 "cells": [
  {
   "metadata": {},
   "cell_type": "markdown",
   "source": "These are the imports.",
   "id": "b6664a22e61b7bcd"
  },
  {
   "cell_type": "code",
   "id": "initial_id",
   "metadata": {
    "collapsed": true,
    "ExecuteTime": {
     "end_time": "2024-05-08T07:28:21.980094Z",
     "start_time": "2024-05-08T07:28:21.978270Z"
    }
   },
   "source": [
    "import os\n",
    "import pandas as pd\n",
    "import numpy as np\n",
    "import matplotlib.pyplot as plt"
   ],
   "outputs": [],
   "execution_count": 39
  },
  {
   "metadata": {
    "ExecuteTime": {
     "end_time": "2024-05-08T07:28:22.011662Z",
     "start_time": "2024-05-08T07:28:22.004730Z"
    }
   },
   "cell_type": "code",
   "source": [
    "path = os.path.join(os.getcwd(), 'Salary_Data.csv')\n",
    "salary = pd.read_csv(path)"
   ],
   "id": "3d16286149a40bf4",
   "outputs": [],
   "execution_count": 40
  },
  {
   "metadata": {},
   "cell_type": "markdown",
   "source": "We are now going to create a dataframe using pandas. ",
   "id": "cf44a324d84d90eb"
  },
  {
   "metadata": {
    "ExecuteTime": {
     "end_time": "2024-05-08T07:28:22.017475Z",
     "start_time": "2024-05-08T07:28:22.012672Z"
    }
   },
   "cell_type": "code",
   "source": [
    "data = pd.DataFrame(salary)\n",
    "data"
   ],
   "id": "a4af270fca865d28",
   "outputs": [
    {
     "data": {
      "text/plain": [
       "       Age  Gender    Education Level              Job Title  \\\n",
       "0     32.0    Male         Bachelor's      Software Engineer   \n",
       "1     28.0  Female           Master's           Data Analyst   \n",
       "2     45.0    Male                PhD         Senior Manager   \n",
       "3     36.0  Female         Bachelor's        Sales Associate   \n",
       "4     52.0    Male           Master's               Director   \n",
       "...    ...     ...                ...                    ...   \n",
       "6699  49.0  Female                PhD  Director of Marketing   \n",
       "6700  32.0    Male        High School        Sales Associate   \n",
       "6701  30.0  Female  Bachelor's Degree      Financial Manager   \n",
       "6702  46.0    Male    Master's Degree      Marketing Manager   \n",
       "6703  26.0  Female        High School        Sales Executive   \n",
       "\n",
       "      Years of Experience    Salary  \n",
       "0                     5.0   90000.0  \n",
       "1                     3.0   65000.0  \n",
       "2                    15.0  150000.0  \n",
       "3                     7.0   60000.0  \n",
       "4                    20.0  200000.0  \n",
       "...                   ...       ...  \n",
       "6699                 20.0  200000.0  \n",
       "6700                  3.0   50000.0  \n",
       "6701                  4.0   55000.0  \n",
       "6702                 14.0  140000.0  \n",
       "6703                  1.0   35000.0  \n",
       "\n",
       "[6704 rows x 6 columns]"
      ],
      "text/html": [
       "<div>\n",
       "<style scoped>\n",
       "    .dataframe tbody tr th:only-of-type {\n",
       "        vertical-align: middle;\n",
       "    }\n",
       "\n",
       "    .dataframe tbody tr th {\n",
       "        vertical-align: top;\n",
       "    }\n",
       "\n",
       "    .dataframe thead th {\n",
       "        text-align: right;\n",
       "    }\n",
       "</style>\n",
       "<table border=\"1\" class=\"dataframe\">\n",
       "  <thead>\n",
       "    <tr style=\"text-align: right;\">\n",
       "      <th></th>\n",
       "      <th>Age</th>\n",
       "      <th>Gender</th>\n",
       "      <th>Education Level</th>\n",
       "      <th>Job Title</th>\n",
       "      <th>Years of Experience</th>\n",
       "      <th>Salary</th>\n",
       "    </tr>\n",
       "  </thead>\n",
       "  <tbody>\n",
       "    <tr>\n",
       "      <th>0</th>\n",
       "      <td>32.0</td>\n",
       "      <td>Male</td>\n",
       "      <td>Bachelor's</td>\n",
       "      <td>Software Engineer</td>\n",
       "      <td>5.0</td>\n",
       "      <td>90000.0</td>\n",
       "    </tr>\n",
       "    <tr>\n",
       "      <th>1</th>\n",
       "      <td>28.0</td>\n",
       "      <td>Female</td>\n",
       "      <td>Master's</td>\n",
       "      <td>Data Analyst</td>\n",
       "      <td>3.0</td>\n",
       "      <td>65000.0</td>\n",
       "    </tr>\n",
       "    <tr>\n",
       "      <th>2</th>\n",
       "      <td>45.0</td>\n",
       "      <td>Male</td>\n",
       "      <td>PhD</td>\n",
       "      <td>Senior Manager</td>\n",
       "      <td>15.0</td>\n",
       "      <td>150000.0</td>\n",
       "    </tr>\n",
       "    <tr>\n",
       "      <th>3</th>\n",
       "      <td>36.0</td>\n",
       "      <td>Female</td>\n",
       "      <td>Bachelor's</td>\n",
       "      <td>Sales Associate</td>\n",
       "      <td>7.0</td>\n",
       "      <td>60000.0</td>\n",
       "    </tr>\n",
       "    <tr>\n",
       "      <th>4</th>\n",
       "      <td>52.0</td>\n",
       "      <td>Male</td>\n",
       "      <td>Master's</td>\n",
       "      <td>Director</td>\n",
       "      <td>20.0</td>\n",
       "      <td>200000.0</td>\n",
       "    </tr>\n",
       "    <tr>\n",
       "      <th>...</th>\n",
       "      <td>...</td>\n",
       "      <td>...</td>\n",
       "      <td>...</td>\n",
       "      <td>...</td>\n",
       "      <td>...</td>\n",
       "      <td>...</td>\n",
       "    </tr>\n",
       "    <tr>\n",
       "      <th>6699</th>\n",
       "      <td>49.0</td>\n",
       "      <td>Female</td>\n",
       "      <td>PhD</td>\n",
       "      <td>Director of Marketing</td>\n",
       "      <td>20.0</td>\n",
       "      <td>200000.0</td>\n",
       "    </tr>\n",
       "    <tr>\n",
       "      <th>6700</th>\n",
       "      <td>32.0</td>\n",
       "      <td>Male</td>\n",
       "      <td>High School</td>\n",
       "      <td>Sales Associate</td>\n",
       "      <td>3.0</td>\n",
       "      <td>50000.0</td>\n",
       "    </tr>\n",
       "    <tr>\n",
       "      <th>6701</th>\n",
       "      <td>30.0</td>\n",
       "      <td>Female</td>\n",
       "      <td>Bachelor's Degree</td>\n",
       "      <td>Financial Manager</td>\n",
       "      <td>4.0</td>\n",
       "      <td>55000.0</td>\n",
       "    </tr>\n",
       "    <tr>\n",
       "      <th>6702</th>\n",
       "      <td>46.0</td>\n",
       "      <td>Male</td>\n",
       "      <td>Master's Degree</td>\n",
       "      <td>Marketing Manager</td>\n",
       "      <td>14.0</td>\n",
       "      <td>140000.0</td>\n",
       "    </tr>\n",
       "    <tr>\n",
       "      <th>6703</th>\n",
       "      <td>26.0</td>\n",
       "      <td>Female</td>\n",
       "      <td>High School</td>\n",
       "      <td>Sales Executive</td>\n",
       "      <td>1.0</td>\n",
       "      <td>35000.0</td>\n",
       "    </tr>\n",
       "  </tbody>\n",
       "</table>\n",
       "<p>6704 rows × 6 columns</p>\n",
       "</div>"
      ]
     },
     "execution_count": 41,
     "metadata": {},
     "output_type": "execute_result"
    }
   ],
   "execution_count": 41
  },
  {
   "metadata": {},
   "cell_type": "markdown",
   "source": [
    "We want to remove blank remove blank columns. \n",
    "We want to remove duplicates. "
   ],
   "id": "2c26dcea337b03f7"
  },
  {
   "metadata": {
    "ExecuteTime": {
     "end_time": "2024-05-08T07:28:22.023632Z",
     "start_time": "2024-05-08T07:28:22.018155Z"
    }
   },
   "cell_type": "code",
   "source": [
    "data = data.drop_duplicates()\n",
    "data"
   ],
   "id": "19e22aa0a470df7c",
   "outputs": [
    {
     "data": {
      "text/plain": [
       "       Age  Gender    Education Level                  Job Title  \\\n",
       "0     32.0    Male         Bachelor's          Software Engineer   \n",
       "1     28.0  Female           Master's               Data Analyst   \n",
       "2     45.0    Male                PhD             Senior Manager   \n",
       "3     36.0  Female         Bachelor's            Sales Associate   \n",
       "4     52.0    Male           Master's                   Director   \n",
       "...    ...     ...                ...                        ...   \n",
       "6623  43.0  Female    Master's Degree  Digital Marketing Manager   \n",
       "6624  27.0    Male        High School              Sales Manager   \n",
       "6625  33.0  Female  Bachelor's Degree      Director of Marketing   \n",
       "6628  37.0    Male  Bachelor's Degree             Sales Director   \n",
       "6631  30.0  Female  Bachelor's Degree              Sales Manager   \n",
       "\n",
       "      Years of Experience    Salary  \n",
       "0                     5.0   90000.0  \n",
       "1                     3.0   65000.0  \n",
       "2                    15.0  150000.0  \n",
       "3                     7.0   60000.0  \n",
       "4                    20.0  200000.0  \n",
       "...                   ...       ...  \n",
       "6623                 15.0  150000.0  \n",
       "6624                  2.0   40000.0  \n",
       "6625                  8.0   80000.0  \n",
       "6628                  7.0   90000.0  \n",
       "6631                  5.0   70000.0  \n",
       "\n",
       "[1792 rows x 6 columns]"
      ],
      "text/html": [
       "<div>\n",
       "<style scoped>\n",
       "    .dataframe tbody tr th:only-of-type {\n",
       "        vertical-align: middle;\n",
       "    }\n",
       "\n",
       "    .dataframe tbody tr th {\n",
       "        vertical-align: top;\n",
       "    }\n",
       "\n",
       "    .dataframe thead th {\n",
       "        text-align: right;\n",
       "    }\n",
       "</style>\n",
       "<table border=\"1\" class=\"dataframe\">\n",
       "  <thead>\n",
       "    <tr style=\"text-align: right;\">\n",
       "      <th></th>\n",
       "      <th>Age</th>\n",
       "      <th>Gender</th>\n",
       "      <th>Education Level</th>\n",
       "      <th>Job Title</th>\n",
       "      <th>Years of Experience</th>\n",
       "      <th>Salary</th>\n",
       "    </tr>\n",
       "  </thead>\n",
       "  <tbody>\n",
       "    <tr>\n",
       "      <th>0</th>\n",
       "      <td>32.0</td>\n",
       "      <td>Male</td>\n",
       "      <td>Bachelor's</td>\n",
       "      <td>Software Engineer</td>\n",
       "      <td>5.0</td>\n",
       "      <td>90000.0</td>\n",
       "    </tr>\n",
       "    <tr>\n",
       "      <th>1</th>\n",
       "      <td>28.0</td>\n",
       "      <td>Female</td>\n",
       "      <td>Master's</td>\n",
       "      <td>Data Analyst</td>\n",
       "      <td>3.0</td>\n",
       "      <td>65000.0</td>\n",
       "    </tr>\n",
       "    <tr>\n",
       "      <th>2</th>\n",
       "      <td>45.0</td>\n",
       "      <td>Male</td>\n",
       "      <td>PhD</td>\n",
       "      <td>Senior Manager</td>\n",
       "      <td>15.0</td>\n",
       "      <td>150000.0</td>\n",
       "    </tr>\n",
       "    <tr>\n",
       "      <th>3</th>\n",
       "      <td>36.0</td>\n",
       "      <td>Female</td>\n",
       "      <td>Bachelor's</td>\n",
       "      <td>Sales Associate</td>\n",
       "      <td>7.0</td>\n",
       "      <td>60000.0</td>\n",
       "    </tr>\n",
       "    <tr>\n",
       "      <th>4</th>\n",
       "      <td>52.0</td>\n",
       "      <td>Male</td>\n",
       "      <td>Master's</td>\n",
       "      <td>Director</td>\n",
       "      <td>20.0</td>\n",
       "      <td>200000.0</td>\n",
       "    </tr>\n",
       "    <tr>\n",
       "      <th>...</th>\n",
       "      <td>...</td>\n",
       "      <td>...</td>\n",
       "      <td>...</td>\n",
       "      <td>...</td>\n",
       "      <td>...</td>\n",
       "      <td>...</td>\n",
       "    </tr>\n",
       "    <tr>\n",
       "      <th>6623</th>\n",
       "      <td>43.0</td>\n",
       "      <td>Female</td>\n",
       "      <td>Master's Degree</td>\n",
       "      <td>Digital Marketing Manager</td>\n",
       "      <td>15.0</td>\n",
       "      <td>150000.0</td>\n",
       "    </tr>\n",
       "    <tr>\n",
       "      <th>6624</th>\n",
       "      <td>27.0</td>\n",
       "      <td>Male</td>\n",
       "      <td>High School</td>\n",
       "      <td>Sales Manager</td>\n",
       "      <td>2.0</td>\n",
       "      <td>40000.0</td>\n",
       "    </tr>\n",
       "    <tr>\n",
       "      <th>6625</th>\n",
       "      <td>33.0</td>\n",
       "      <td>Female</td>\n",
       "      <td>Bachelor's Degree</td>\n",
       "      <td>Director of Marketing</td>\n",
       "      <td>8.0</td>\n",
       "      <td>80000.0</td>\n",
       "    </tr>\n",
       "    <tr>\n",
       "      <th>6628</th>\n",
       "      <td>37.0</td>\n",
       "      <td>Male</td>\n",
       "      <td>Bachelor's Degree</td>\n",
       "      <td>Sales Director</td>\n",
       "      <td>7.0</td>\n",
       "      <td>90000.0</td>\n",
       "    </tr>\n",
       "    <tr>\n",
       "      <th>6631</th>\n",
       "      <td>30.0</td>\n",
       "      <td>Female</td>\n",
       "      <td>Bachelor's Degree</td>\n",
       "      <td>Sales Manager</td>\n",
       "      <td>5.0</td>\n",
       "      <td>70000.0</td>\n",
       "    </tr>\n",
       "  </tbody>\n",
       "</table>\n",
       "<p>1792 rows × 6 columns</p>\n",
       "</div>"
      ]
     },
     "execution_count": 42,
     "metadata": {},
     "output_type": "execute_result"
    }
   ],
   "execution_count": 42
  },
  {
   "metadata": {},
   "cell_type": "markdown",
   "source": "Let's look for any data with duplicate data, and then remove it. ",
   "id": "711aab455961b0e0"
  },
  {
   "metadata": {
    "ExecuteTime": {
     "end_time": "2024-05-08T07:28:22.028495Z",
     "start_time": "2024-05-08T07:28:22.024796Z"
    }
   },
   "cell_type": "code",
   "source": "data[data.isnull().any(axis=1)]",
   "id": "34084ab5b85136e0",
   "outputs": [
    {
     "data": {
      "text/plain": [
       "       Age  Gender    Education Level            Job Title  \\\n",
       "172    NaN     NaN                NaN                  NaN   \n",
       "2011  27.0    Male                NaN            Developer   \n",
       "3136  31.0    Male    Master's Degree  Full Stack Engineer   \n",
       "5247  26.0  Female  Bachelor's Degree             Social M   \n",
       "6455  36.0    Male  Bachelor's Degree       Sales Director   \n",
       "\n",
       "      Years of Experience    Salary  \n",
       "172                   NaN       NaN  \n",
       "2011                  7.0  100000.0  \n",
       "3136                  8.0       NaN  \n",
       "5247                  NaN       NaN  \n",
       "6455                  6.0       NaN  "
      ],
      "text/html": [
       "<div>\n",
       "<style scoped>\n",
       "    .dataframe tbody tr th:only-of-type {\n",
       "        vertical-align: middle;\n",
       "    }\n",
       "\n",
       "    .dataframe tbody tr th {\n",
       "        vertical-align: top;\n",
       "    }\n",
       "\n",
       "    .dataframe thead th {\n",
       "        text-align: right;\n",
       "    }\n",
       "</style>\n",
       "<table border=\"1\" class=\"dataframe\">\n",
       "  <thead>\n",
       "    <tr style=\"text-align: right;\">\n",
       "      <th></th>\n",
       "      <th>Age</th>\n",
       "      <th>Gender</th>\n",
       "      <th>Education Level</th>\n",
       "      <th>Job Title</th>\n",
       "      <th>Years of Experience</th>\n",
       "      <th>Salary</th>\n",
       "    </tr>\n",
       "  </thead>\n",
       "  <tbody>\n",
       "    <tr>\n",
       "      <th>172</th>\n",
       "      <td>NaN</td>\n",
       "      <td>NaN</td>\n",
       "      <td>NaN</td>\n",
       "      <td>NaN</td>\n",
       "      <td>NaN</td>\n",
       "      <td>NaN</td>\n",
       "    </tr>\n",
       "    <tr>\n",
       "      <th>2011</th>\n",
       "      <td>27.0</td>\n",
       "      <td>Male</td>\n",
       "      <td>NaN</td>\n",
       "      <td>Developer</td>\n",
       "      <td>7.0</td>\n",
       "      <td>100000.0</td>\n",
       "    </tr>\n",
       "    <tr>\n",
       "      <th>3136</th>\n",
       "      <td>31.0</td>\n",
       "      <td>Male</td>\n",
       "      <td>Master's Degree</td>\n",
       "      <td>Full Stack Engineer</td>\n",
       "      <td>8.0</td>\n",
       "      <td>NaN</td>\n",
       "    </tr>\n",
       "    <tr>\n",
       "      <th>5247</th>\n",
       "      <td>26.0</td>\n",
       "      <td>Female</td>\n",
       "      <td>Bachelor's Degree</td>\n",
       "      <td>Social M</td>\n",
       "      <td>NaN</td>\n",
       "      <td>NaN</td>\n",
       "    </tr>\n",
       "    <tr>\n",
       "      <th>6455</th>\n",
       "      <td>36.0</td>\n",
       "      <td>Male</td>\n",
       "      <td>Bachelor's Degree</td>\n",
       "      <td>Sales Director</td>\n",
       "      <td>6.0</td>\n",
       "      <td>NaN</td>\n",
       "    </tr>\n",
       "  </tbody>\n",
       "</table>\n",
       "</div>"
      ]
     },
     "execution_count": 43,
     "metadata": {},
     "output_type": "execute_result"
    }
   ],
   "execution_count": 43
  },
  {
   "metadata": {},
   "cell_type": "markdown",
   "source": "Next, let's drop the records that have any null values in them. ",
   "id": "85029bcaaf991a70"
  },
  {
   "metadata": {
    "ExecuteTime": {
     "end_time": "2024-05-08T07:28:22.033752Z",
     "start_time": "2024-05-08T07:28:22.029031Z"
    }
   },
   "cell_type": "code",
   "source": [
    "data = data.dropna()\n",
    "data"
   ],
   "id": "d81d4e34b009f419",
   "outputs": [
    {
     "data": {
      "text/plain": [
       "       Age  Gender    Education Level                  Job Title  \\\n",
       "0     32.0    Male         Bachelor's          Software Engineer   \n",
       "1     28.0  Female           Master's               Data Analyst   \n",
       "2     45.0    Male                PhD             Senior Manager   \n",
       "3     36.0  Female         Bachelor's            Sales Associate   \n",
       "4     52.0    Male           Master's                   Director   \n",
       "...    ...     ...                ...                        ...   \n",
       "6623  43.0  Female    Master's Degree  Digital Marketing Manager   \n",
       "6624  27.0    Male        High School              Sales Manager   \n",
       "6625  33.0  Female  Bachelor's Degree      Director of Marketing   \n",
       "6628  37.0    Male  Bachelor's Degree             Sales Director   \n",
       "6631  30.0  Female  Bachelor's Degree              Sales Manager   \n",
       "\n",
       "      Years of Experience    Salary  \n",
       "0                     5.0   90000.0  \n",
       "1                     3.0   65000.0  \n",
       "2                    15.0  150000.0  \n",
       "3                     7.0   60000.0  \n",
       "4                    20.0  200000.0  \n",
       "...                   ...       ...  \n",
       "6623                 15.0  150000.0  \n",
       "6624                  2.0   40000.0  \n",
       "6625                  8.0   80000.0  \n",
       "6628                  7.0   90000.0  \n",
       "6631                  5.0   70000.0  \n",
       "\n",
       "[1787 rows x 6 columns]"
      ],
      "text/html": [
       "<div>\n",
       "<style scoped>\n",
       "    .dataframe tbody tr th:only-of-type {\n",
       "        vertical-align: middle;\n",
       "    }\n",
       "\n",
       "    .dataframe tbody tr th {\n",
       "        vertical-align: top;\n",
       "    }\n",
       "\n",
       "    .dataframe thead th {\n",
       "        text-align: right;\n",
       "    }\n",
       "</style>\n",
       "<table border=\"1\" class=\"dataframe\">\n",
       "  <thead>\n",
       "    <tr style=\"text-align: right;\">\n",
       "      <th></th>\n",
       "      <th>Age</th>\n",
       "      <th>Gender</th>\n",
       "      <th>Education Level</th>\n",
       "      <th>Job Title</th>\n",
       "      <th>Years of Experience</th>\n",
       "      <th>Salary</th>\n",
       "    </tr>\n",
       "  </thead>\n",
       "  <tbody>\n",
       "    <tr>\n",
       "      <th>0</th>\n",
       "      <td>32.0</td>\n",
       "      <td>Male</td>\n",
       "      <td>Bachelor's</td>\n",
       "      <td>Software Engineer</td>\n",
       "      <td>5.0</td>\n",
       "      <td>90000.0</td>\n",
       "    </tr>\n",
       "    <tr>\n",
       "      <th>1</th>\n",
       "      <td>28.0</td>\n",
       "      <td>Female</td>\n",
       "      <td>Master's</td>\n",
       "      <td>Data Analyst</td>\n",
       "      <td>3.0</td>\n",
       "      <td>65000.0</td>\n",
       "    </tr>\n",
       "    <tr>\n",
       "      <th>2</th>\n",
       "      <td>45.0</td>\n",
       "      <td>Male</td>\n",
       "      <td>PhD</td>\n",
       "      <td>Senior Manager</td>\n",
       "      <td>15.0</td>\n",
       "      <td>150000.0</td>\n",
       "    </tr>\n",
       "    <tr>\n",
       "      <th>3</th>\n",
       "      <td>36.0</td>\n",
       "      <td>Female</td>\n",
       "      <td>Bachelor's</td>\n",
       "      <td>Sales Associate</td>\n",
       "      <td>7.0</td>\n",
       "      <td>60000.0</td>\n",
       "    </tr>\n",
       "    <tr>\n",
       "      <th>4</th>\n",
       "      <td>52.0</td>\n",
       "      <td>Male</td>\n",
       "      <td>Master's</td>\n",
       "      <td>Director</td>\n",
       "      <td>20.0</td>\n",
       "      <td>200000.0</td>\n",
       "    </tr>\n",
       "    <tr>\n",
       "      <th>...</th>\n",
       "      <td>...</td>\n",
       "      <td>...</td>\n",
       "      <td>...</td>\n",
       "      <td>...</td>\n",
       "      <td>...</td>\n",
       "      <td>...</td>\n",
       "    </tr>\n",
       "    <tr>\n",
       "      <th>6623</th>\n",
       "      <td>43.0</td>\n",
       "      <td>Female</td>\n",
       "      <td>Master's Degree</td>\n",
       "      <td>Digital Marketing Manager</td>\n",
       "      <td>15.0</td>\n",
       "      <td>150000.0</td>\n",
       "    </tr>\n",
       "    <tr>\n",
       "      <th>6624</th>\n",
       "      <td>27.0</td>\n",
       "      <td>Male</td>\n",
       "      <td>High School</td>\n",
       "      <td>Sales Manager</td>\n",
       "      <td>2.0</td>\n",
       "      <td>40000.0</td>\n",
       "    </tr>\n",
       "    <tr>\n",
       "      <th>6625</th>\n",
       "      <td>33.0</td>\n",
       "      <td>Female</td>\n",
       "      <td>Bachelor's Degree</td>\n",
       "      <td>Director of Marketing</td>\n",
       "      <td>8.0</td>\n",
       "      <td>80000.0</td>\n",
       "    </tr>\n",
       "    <tr>\n",
       "      <th>6628</th>\n",
       "      <td>37.0</td>\n",
       "      <td>Male</td>\n",
       "      <td>Bachelor's Degree</td>\n",
       "      <td>Sales Director</td>\n",
       "      <td>7.0</td>\n",
       "      <td>90000.0</td>\n",
       "    </tr>\n",
       "    <tr>\n",
       "      <th>6631</th>\n",
       "      <td>30.0</td>\n",
       "      <td>Female</td>\n",
       "      <td>Bachelor's Degree</td>\n",
       "      <td>Sales Manager</td>\n",
       "      <td>5.0</td>\n",
       "      <td>70000.0</td>\n",
       "    </tr>\n",
       "  </tbody>\n",
       "</table>\n",
       "<p>1787 rows × 6 columns</p>\n",
       "</div>"
      ]
     },
     "execution_count": 44,
     "metadata": {},
     "output_type": "execute_result"
    }
   ],
   "execution_count": 44
  },
  {
   "metadata": {},
   "cell_type": "markdown",
   "source": "We want to get the average salary for both male and females. ",
   "id": "139e8aa65ae4db47"
  },
  {
   "metadata": {
    "ExecuteTime": {
     "end_time": "2024-05-08T07:28:22.040034Z",
     "start_time": "2024-05-08T07:28:22.034445Z"
    }
   },
   "cell_type": "code",
   "source": [
    "# Grabbing the data\n",
    "female_data = data[data['Gender'] == 'Female']\n",
    "male_data = data[data['Gender'] == 'Male']\n",
    "other_data = data[data['Gender'] == 'Other']\n",
    "\n",
    "# Getting the number of each gender on the records\n",
    "female_count = len(female_data)\n",
    "male_count = len(male_data)\n",
    "other_count = len(other_data)\n",
    "\n",
    "# Getting the average of the salaries for each gender category\n",
    "female_avg_salary = round(female_data.Salary.mean(), 2)\n",
    "male_avg_salary = round(male_data.Salary.mean(), 2)\n",
    "other_avg_salary = round(other_data.Salary.mean(), 2)\n",
    "\n",
    "# Getting the median\n",
    "female_median_salary = round(female_data.Salary.median(), 2)\n",
    "male_median_salary = round(male_data.Salary.median(), 2)\n",
    "other_median_salary = round(other_data.Salary.median(), 2)\n",
    "\n",
    "# Getting the lowest salary\n",
    "female_low_salary = round(female_data.Salary.min(), 2)\n",
    "male_low_salary = round(male_data.Salary.min(), 2)\n",
    "other_low_salary = round(male_data.Salary.min(), 2)\n",
    "\n",
    "# Getting the highest salary\n",
    "female_highest_salary = round(female_data.Salary.max(), 2)\n",
    "male_highest_salary = round(male_data.Salary.max(), 2)\n",
    "other_highest_salary = round(male_data.Salary.max(), 2)\n",
    "\n",
    "male_summary = f'Male:\\n\\tCount: {male_count}\\n\\tAverage Salary: ${male_avg_salary}\\n\\tMedian Salary: ${male_median_salary}\\n\\tLow: ${male_low_salary}\\n\\tMax Salary: ${male_highest_salary}\\n'\n",
    "female_summary = f'Female:\\n\\tCount: {female_count}\\n\\tAverage Salary: ${female_avg_salary}\\n\\tMedian Salary: ${female_median_salary}\\n\\tLow: ${female_low_salary}\\n\\tMax Salary: ${female_highest_salary}\\n'\n",
    "other_summary = f'Non-binary:\\n\\tCount: {other_count}\\n\\tAverage Salary: ${other_avg_salary}\\n\\tMedian Salary: ${other_median_salary}\\n\\tLow: ${other_low_salary}\\n\\tMax Salary: ${other_highest_salary}'\n",
    "print(male_summary + female_summary + other_summary)"
   ],
   "id": "a05c89d92c405e6e",
   "outputs": [
    {
     "name": "stdout",
     "output_type": "stream",
     "text": [
      "Male:\n",
      "\tCount: 966\n",
      "\tAverage Salary: $118056.2\n",
      "\tMedian Salary: $120000.0\n",
      "\tLow: $350.0\n",
      "\tMax Salary: $250000.0\n",
      "Female:\n",
      "\tCount: 814\n",
      "\tAverage Salary: $107294.8\n",
      "\tMedian Salary: $104851.0\n",
      "\tLow: $500.0\n",
      "\tMax Salary: $220000.0\n",
      "Non-binary:\n",
      "\tCount: 7\n",
      "\tAverage Salary: $125819.0\n",
      "\tMedian Salary: $158254.0\n",
      "\tLow: $350.0\n",
      "\tMax Salary: $250000.0\n"
     ]
    }
   ],
   "execution_count": 45
  },
  {
   "metadata": {},
   "cell_type": "markdown",
   "source": "We can see that non-binary people have the highest salaries on average, but this is only because there is a very small number of non-binary people in the records. Comparing the men and the women against each other, we can see that women have a lower average salary and a lower median salary than men. Women also have a lower max salary, but a higher min salary.",
   "id": "19404ab196407f11"
  },
  {
   "metadata": {},
   "cell_type": "markdown",
   "source": "We now want to compare the salaries of those with different levels of education. Let me create a series for all of those first. ",
   "id": "2b9c26b0736d477f"
  },
  {
   "metadata": {
    "ExecuteTime": {
     "end_time": "2024-05-08T07:28:22.042668Z",
     "start_time": "2024-05-08T07:28:22.040699Z"
    }
   },
   "cell_type": "code",
   "source": [
    "degrees = data['Education Level'].unique()\n",
    "degrees"
   ],
   "id": "c24913675f82eada",
   "outputs": [
    {
     "data": {
      "text/plain": [
       "array([\"Bachelor's\", \"Master's\", 'PhD', \"Bachelor's Degree\",\n",
       "       \"Master's Degree\", 'High School', 'phD'], dtype=object)"
      ]
     },
     "execution_count": 46,
     "metadata": {},
     "output_type": "execute_result"
    }
   ],
   "execution_count": 46
  },
  {
   "metadata": {},
   "cell_type": "markdown",
   "source": "We need to change the records that have Degree at the end as their indicated Education Level to just Bachelor's to make our data easier to work with. ",
   "id": "76b5f622782b6e01"
  },
  {
   "metadata": {
    "ExecuteTime": {
     "end_time": "2024-05-08T07:28:22.045506Z",
     "start_time": "2024-05-08T07:28:22.043249Z"
    }
   },
   "cell_type": "code",
   "source": "data['Education Level'] = data['Education Level'].replace([\"Bachelor's Degree\", \"Master's Degree\", \"phD\"], [\"Bachelor's\", \"Master's\", \"PhD\"])",
   "id": "a33f158ffd1fd48e",
   "outputs": [
    {
     "name": "stderr",
     "output_type": "stream",
     "text": [
      "/var/folders/v5/mqtnr2p16yvfvqmsjn2t3l140000gn/T/ipykernel_1452/1071391274.py:1: SettingWithCopyWarning: \n",
      "A value is trying to be set on a copy of a slice from a DataFrame.\n",
      "Try using .loc[row_indexer,col_indexer] = value instead\n",
      "\n",
      "See the caveats in the documentation: https://pandas.pydata.org/pandas-docs/stable/user_guide/indexing.html#returning-a-view-versus-a-copy\n",
      "  data['Education Level'] = data['Education Level'].replace([\"Bachelor's Degree\", \"Master's Degree\", \"phD\"], [\"Bachelor's\", \"Master's\", \"PhD\"])\n"
     ]
    }
   ],
   "execution_count": 47
  },
  {
   "metadata": {},
   "cell_type": "markdown",
   "source": "The warning should be ignored, as the intended functionality was achieved. ",
   "id": "df8ffe55cd500e21"
  },
  {
   "metadata": {
    "ExecuteTime": {
     "end_time": "2024-05-08T07:28:22.048917Z",
     "start_time": "2024-05-08T07:28:22.046912Z"
    }
   },
   "cell_type": "code",
   "source": [
    "degrees = data['Education Level'].unique()\n",
    "degrees"
   ],
   "id": "b8fa3c995a7304de",
   "outputs": [
    {
     "data": {
      "text/plain": [
       "array([\"Bachelor's\", \"Master's\", 'PhD', 'High School'], dtype=object)"
      ]
     },
     "execution_count": 48,
     "metadata": {},
     "output_type": "execute_result"
    }
   ],
   "execution_count": 48
  },
  {
   "metadata": {
    "ExecuteTime": {
     "end_time": "2024-05-08T07:28:22.054949Z",
     "start_time": "2024-05-08T07:28:22.049526Z"
    }
   },
   "cell_type": "code",
   "source": [
    "# Grabbing the data\n",
    "highschool_level =  data[data['Education Level']== 'High School']\n",
    "undergrad_level = data[data['Education Level'] == \"Bachelor's\"]\n",
    "masters_level = data[data['Education Level'] == \"Master's\"]\n",
    "phd_level = data[data['Education Level'] == 'PhD']\n",
    "\n",
    "# Getting the number of each category\n",
    "highschool_count = len(highschool_level)\n",
    "undergrad_count = len(undergrad_level)\n",
    "masters_count = len(masters_level)\n",
    "phd_count = len(phd_level)\n",
    "\n",
    "# Getting the average of the salaries for each category\n",
    "highschool_avg_salary = round(highschool_level.Salary.mean(), 2)\n",
    "undergrad_avg_salary = round(undergrad_level.Salary.mean(), 2)\n",
    "masters_avg_salary = round(masters_level.Salary.mean(), 2)\n",
    "phd_avg_salary = round(phd_level.Salary.mean(), 2)\n",
    "\n",
    "# Getting the median of the salaries for each category\n",
    "highschool_median_salary = round(highschool_level.Salary.median(), 2)\n",
    "undergrad_median_salary = round(undergrad_level.Salary.median(), 2)\n",
    "masters_median_salary = round(masters_level.Salary.median(), 2)\n",
    "phd_median_salary = round(phd_level.Salary.median(), 2)\n",
    "\n",
    "# Getting the lowest and highest salaries\n",
    "highschool_low_salary, highschool_high_salary = highschool_level.Salary.min(), highschool_level.Salary.max()\n",
    "undergrad_low_salary, undergrad_high_salary = undergrad_level.Salary.min(), undergrad_level.Salary.max()\n",
    "masters_low_salary, masters_high_salary = masters_level.Salary.min(), masters_level.Salary.max()\n",
    "phd_low_salary, phd_high_salary = phd_level.Salary.min(), phd_level.Salary.max()\n",
    "\n",
    "h_summary = f'High School:\\n\\tCount: {highschool_count}\\n\\tAverage Salary: ${highschool_avg_salary}\\n\\tMedian Salary: ${highschool_median_salary}\\n\\tLow: ${highschool_low_salary}\\n\\tMax Salary: ${highschool_high_salary}\\n'\n",
    "u_summary = f\"Bachelor's:\\n\\tCount: {undergrad_count}\\n\\tAverage Salary: ${undergrad_avg_salary}\\n\\tMedian Salary: ${undergrad_median_salary}\\n\\tLow: ${undergrad_low_salary}\\n\\tMax Salary: ${undergrad_high_salary}\\n\"\n",
    "m_summary = f\"Master's:\\n\\tCount: {masters_count}\\n\\tAverage Salary: ${masters_avg_salary}\\n\\tMedian Salary: ${masters_median_salary}\\n\\tLow: ${masters_low_salary}\\n\\tMax Salary: ${masters_high_salary}\\n\"\n",
    "p_summary = f'PhD:\\n\\tCount: {phd_count}\\n\\tAverage Salary: ${phd_avg_salary}\\n\\tMedian Salary: ${phd_median_salary}\\n\\tLow: ${phd_low_salary}\\n\\tMax Salary: ${phd_high_salary}\\n'\n",
    "\n",
    "print(h_summary + u_summary + m_summary + p_summary)\n"
   ],
   "id": "a9a23ce51e896cd4",
   "outputs": [
    {
     "name": "stdout",
     "output_type": "stream",
     "text": [
      "High School:\n",
      "\tCount: 110\n",
      "\tAverage Salary: $45435.98\n",
      "\tMedian Salary: $35000.0\n",
      "\tLow: $25000.0\n",
      "\tMax Salary: $166109.0\n",
      "Bachelor's:\n",
      "\tCount: 768\n",
      "\tAverage Salary: $91145.57\n",
      "\tMedian Salary: $80000.0\n",
      "\tLow: $350.0\n",
      "\tMax Salary: $250000.0\n",
      "Master's:\n",
      "\tCount: 568\n",
      "\tAverage Salary: $127432.81\n",
      "\tMedian Salary: $127131.0\n",
      "\tLow: $32000.0\n",
      "\tMax Salary: $228000.0\n",
      "PhD:\n",
      "\tCount: 341\n",
      "\tAverage Salary: $160942.52\n",
      "\tMedian Salary: $170000.0\n",
      "\tLow: $579.0\n",
      "\tMax Salary: $250000.0\n",
      "\n"
     ]
    }
   ],
   "execution_count": 49
  },
  {
   "metadata": {},
   "cell_type": "markdown",
   "source": "Let's use matplotlib to plot the graphs.",
   "id": "43338ddc864c5d2f"
  },
  {
   "metadata": {
    "ExecuteTime": {
     "end_time": "2024-05-08T07:38:43.710326Z",
     "start_time": "2024-05-08T07:38:43.534944Z"
    }
   },
   "cell_type": "code",
   "source": [
    "# Plotting for qualifications\n",
    "cert = ['High School', 'Undergraduate', \"Master's\", 'PhD']\n",
    "avg_salary = [highschool_avg_salary, undergrad_avg_salary, masters_avg_salary, phd_avg_salary]\n",
    "med_salary = [highschool_median_salary, undergrad_median_salary, masters_median_salary, phd_median_salary]\n",
    "n = len(cert)\n",
    "ind = np.arange(n)\n",
    "w = 0.35\n",
    "fig, ax = plt.subplots()\n",
    "avg_bar = ax.bar(ind, avg_salary, w, color='blue')\n",
    "med_bar = ax.bar(ind+w, med_salary, w, color ='red')\n",
    "ax.set_ylabel('Salaries')\n",
    "ax.set_title('Average/Median Salaries by level of Educational Attainment')\n",
    "ax.set_xticks(ind+w/2)\n",
    "ax.set_xticklabels(cert)\n",
    "ax.legend((avg_bar[0], med_bar[0]), ('Average', 'Median'))\n",
    "plt.show()\n",
    "# Plotting for gender\n",
    "gender = ['Male', 'Female', 'Non-binary']\n",
    "avg_salary_gender = [male_avg_salary, female_avg_salary, other_avg_salary]\n",
    "med_salary_gender = [male_median_salary, female_median_salary, other_median_salary]\n",
    "n = len(gender)\n",
    "ind = np.arange(n)\n",
    "w = 0.35\n",
    "fig, ax = plt.subplots()\n",
    "avg_bar = ax.bar(ind, avg_salary_gender, w, color='blue')\n",
    "med_bar = ax.bar(ind+w, med_salary_gender, w, color ='red')\n",
    "ax.set_ylabel('Salaries')\n",
    "ax.set_title('Average/Median Salaries by Gender')\n",
    "ax.set_xticks(ind+w/2)\n",
    "ax.set_xticklabels(gender)\n",
    "ax.legend((avg_bar[0], med_bar[0]), ('Average', 'Median'))\n",
    "plt.show()"
   ],
   "id": "cd3e4d39f8b60a9d",
   "outputs": [
    {
     "data": {
      "text/plain": [
       "<Figure size 640x480 with 1 Axes>"
      ],
      "image/png": "[encoded data removed]"
     },
     "metadata": {},
     "output_type": "display_data"
    },
    {
     "data": {
      "text/plain": [
       "<Figure size 640x480 with 1 Axes>"
      ],
      "image/png": "[encoded data removed]"
     },
     "metadata": {},
     "output_type": "display_data"
    }
   ],
   "execution_count": 54
  },
  {
   "metadata": {},
   "cell_type": "markdown",
   "source": [
    "We can see from the data above that it is beneficial to aim for higher levels of academic attainment, as it is linked with a higher income. \n",
    "We can also see from the data that non-binaries have the highest average and median salaries. Now, let's look at the relationship between years of experience and income. We can use a scatter plot to roughly graph the data. "
   ],
   "id": "90dc2a2beb46d4f2"
  },
  {
   "metadata": {
    "ExecuteTime": {
     "end_time": "2024-05-08T08:17:10.079922Z",
     "start_time": "2024-05-08T08:17:10.001158Z"
    }
   },
   "cell_type": "code",
   "source": [
    "xp = data['Years of Experience']\n",
    "salary = data['Salary']\n",
    "plt.scatter(xp, salary, color='blue')\n",
    "plt.title('Salary by Years of Experience')\n",
    "plt.ylabel('Salary')\n",
    "plt.xlabel('Years of Experience')\n",
    "plt.show()"
   ],
   "id": "add990cbeb5cdfb0",
   "outputs": [
    {
     "data": {
      "text/plain": [
       "<Figure size 640x480 with 1 Axes>"
      ],
      "image/png": "[encoded data removed]"
     },
     "metadata": {},
     "output_type": "display_data"
    }
   ],
   "execution_count": 55
  },
  {
   "metadata": {},
   "cell_type": "markdown",
   "source": "There seems to be a positive correlation between years of experience and salary; that is, as you get more years of experience, you get paid more. ",
   "id": "f5ae4077773fceb3"
  },
  {
   "metadata": {},
   "cell_type": "code",
   "outputs": [],
   "execution_count": null,
   "source": "",
   "id": "f37d9ac289c98b2a"
  }
 ],
 "metadata": {
  "kernelspec": {
   "display_name": "Python 3",
   "language": "python",
   "name": "python3"
  },
  "language_info": {
   "codemirror_mode": {
    "name": "ipython",
    "version": 2
   },
   "file_extension": ".py",
   "mimetype": "text/x-python",
   "name": "python",
   "nbconvert_exporter": "python",
   "pygments_lexer": "ipython2",
   "version": "2.7.6"
  }
 },
 "nbformat": 4,
 "nbformat_minor": 5
}
